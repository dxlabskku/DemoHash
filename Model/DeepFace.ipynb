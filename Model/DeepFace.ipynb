{
 "cells": [
  {
   "cell_type": "code",
   "execution_count": 1,
   "metadata": {},
   "outputs": [],
   "source": [
    "import os\n",
    "import json\n",
    "from deepface.extendedmodels import Age, Gender, Race, Emotion\n",
    "from deepface import DeepFace\n",
    "import pandas as pd\n",
    "\n",
    "PATH = '../data_crawler/Final_image/' # direction to images"
   ]
  },
  {
   "cell_type": "code",
   "execution_count": 2,
   "metadata": {},
   "outputs": [],
   "source": [
    "df = pd.read_csv('../data_crawler/Final_insta_data.csv') # direction to post data "
   ]
  },
  {
   "cell_type": "code",
   "execution_count": 4,
   "metadata": {},
   "outputs": [
    {
     "name": "stdout",
     "output_type": "stream",
     "text": [
      "5627\n"
     ]
    }
   ],
   "source": [
    "df = df.loc[df['hashtag'].dropna().index]\n",
    "df = df.loc[df['user_text'].dropna().index]\n",
    "\n",
    "print(len(df))\n",
    "\n",
    "groups = df.groupby(\"user_id\")\n",
    "df = groups.filter(lambda x: x['img_name'].count() == 3.)\n",
    "df.reset_index(drop = True, inplace=True)"
   ]
  },
  {
   "cell_type": "code",
   "execution_count": 6,
   "metadata": {},
   "outputs": [],
   "source": [
    "df = df.drop_duplicates(subset='user_id')"
   ]
  },
  {
   "cell_type": "code",
   "execution_count": 7,
   "metadata": {},
   "outputs": [],
   "source": [
    "demo_list = df.img_name.tolist()"
   ]
  },
  {
   "cell_type": "code",
   "execution_count": 8,
   "metadata": {},
   "outputs": [],
   "source": [
    "img_path_list = [PATH+i+'.jpg' for i in demo_list]"
   ]
  },
  {
   "cell_type": "code",
   "execution_count": null,
   "metadata": {},
   "outputs": [],
   "source": [
    "demographies = DeepFace.analyze(img_path_list, actions=['age', 'gender', 'race', 'emotion'], enforce_detection=False)"
   ]
  },
  {
   "cell_type": "markdown",
   "metadata": {},
   "source": [
    "## you can select dominant values or possibility values for demographic information"
   ]
  },
  {
   "cell_type": "code",
   "execution_count": 20,
   "metadata": {},
   "outputs": [],
   "source": [
    "### dominant values\n",
    "age = []\n",
    "gender = []\n",
    "race = []\n",
    "emotion = []\n",
    "for key, val in demographies.items():\n",
    "    age.append(val['age'])\n",
    "    gender.append(val['gender'])\n",
    "    race.append(val['dominant_race'])\n",
    "    emotion.append(val['dominant_emotion'])\n",
    "\n",
    "demo_df = pd.DataFrame({'user_id': list(set(df.user_id))})\n",
    "\n",
    "demo_df['age'] = age\n",
    "demo_df['gender'] = gender\n",
    "demo_df['race'] = race\n",
    "demo_df['emotion'] = emotion\n",
    "demo_df.to_csv('Final_Demography.csv',index=False)"
   ]
  },
  {
   "cell_type": "code",
   "execution_count": 10,
   "metadata": {},
   "outputs": [],
   "source": [
    "### possibility values\n",
    "age = []\n",
    "gender = []\n",
    "race = []\n",
    "emotion = []\n",
    "for key, val in demographies.items():\n",
    "    age.append(val['age'])\n",
    "    gender.append(val['gender'])\n",
    "    race.append(val['race'])\n",
    "    emotion.append(val['emotion'])\n",
    "\n",
    "demo_df = pd.DataFrame({'user_id': list(set(df.user_id))})\n",
    "\n",
    "demo_df['age'] = age\n",
    "demo_df['gender'] = gender\n",
    "demo_df['race'] = race\n",
    "demo_df['emotion'] = emotion\n",
    "\n",
    "for i in range(len(demo_df)):\n",
    "    demo_df.emotion[i] = list(demo_df.emotion[i].values())\n",
    "    demo_df.race[i] = list(demo_df.race[i].values())"
   ]
  },
  {
   "cell_type": "code",
   "execution_count": 21,
   "metadata": {},
   "outputs": [
    {
     "data": {
      "text/html": [
       "<div>\n",
       "<style scoped>\n",
       "    .dataframe tbody tr th:only-of-type {\n",
       "        vertical-align: middle;\n",
       "    }\n",
       "\n",
       "    .dataframe tbody tr th {\n",
       "        vertical-align: top;\n",
       "    }\n",
       "\n",
       "    .dataframe thead th {\n",
       "        text-align: right;\n",
       "    }\n",
       "</style>\n",
       "<table border=\"1\" class=\"dataframe\">\n",
       "  <thead>\n",
       "    <tr style=\"text-align: right;\">\n",
       "      <th></th>\n",
       "      <th>user_id</th>\n",
       "      <th>age</th>\n",
       "      <th>gender</th>\n",
       "      <th>race</th>\n",
       "      <th>emotion</th>\n",
       "    </tr>\n",
       "  </thead>\n",
       "  <tbody>\n",
       "    <tr>\n",
       "      <th>0</th>\n",
       "      <td>mr_smarty_aman29</td>\n",
       "      <td>29.803126</td>\n",
       "      <td>Woman</td>\n",
       "      <td>[8.121638000011444, 7.017035782337189, 1.41721...</td>\n",
       "      <td>[8.608237693942525e-05, 7.210825791092458e-14,...</td>\n",
       "    </tr>\n",
       "    <tr>\n",
       "      <th>1</th>\n",
       "      <td>kanontop</td>\n",
       "      <td>32.679255</td>\n",
       "      <td>Man</td>\n",
       "      <td>[9.220211598847914, 0.9095177832820673, 53.345...</td>\n",
       "      <td>[3.123963624177195, 0.0011181841485097869, 0.1...</td>\n",
       "    </tr>\n",
       "    <tr>\n",
       "      <th>2</th>\n",
       "      <td>alsrud.d</td>\n",
       "      <td>28.509125</td>\n",
       "      <td>Woman</td>\n",
       "      <td>[31.98791742324829, 0.563348364084959, 0.18905...</td>\n",
       "      <td>[16.429325938224792, 0.00044358207560435403, 4...</td>\n",
       "    </tr>\n",
       "    <tr>\n",
       "      <th>3</th>\n",
       "      <td>slaskoukprirode</td>\n",
       "      <td>36.228590</td>\n",
       "      <td>Man</td>\n",
       "      <td>[13.590522110462189, 14.06458467245102, 33.148...</td>\n",
       "      <td>[91.19017615201189, 1.5858162222285535, 0.6855...</td>\n",
       "    </tr>\n",
       "    <tr>\n",
       "      <th>4</th>\n",
       "      <td>ky.ths</td>\n",
       "      <td>25.241081</td>\n",
       "      <td>Man</td>\n",
       "      <td>[0.2101876755207568, 0.01435082787703167, 0.00...</td>\n",
       "      <td>[0.010402130175601999, 7.594126475115104e-09, ...</td>\n",
       "    </tr>\n",
       "  </tbody>\n",
       "</table>\n",
       "</div>"
      ],
      "text/plain": [
       "            user_id        age gender  \\\n",
       "0  mr_smarty_aman29  29.803126  Woman   \n",
       "1          kanontop  32.679255    Man   \n",
       "2          alsrud.d  28.509125  Woman   \n",
       "3   slaskoukprirode  36.228590    Man   \n",
       "4            ky.ths  25.241081    Man   \n",
       "\n",
       "                                                race  \\\n",
       "0  [8.121638000011444, 7.017035782337189, 1.41721...   \n",
       "1  [9.220211598847914, 0.9095177832820673, 53.345...   \n",
       "2  [31.98791742324829, 0.563348364084959, 0.18905...   \n",
       "3  [13.590522110462189, 14.06458467245102, 33.148...   \n",
       "4  [0.2101876755207568, 0.01435082787703167, 0.00...   \n",
       "\n",
       "                                             emotion  \n",
       "0  [8.608237693942525e-05, 7.210825791092458e-14,...  \n",
       "1  [3.123963624177195, 0.0011181841485097869, 0.1...  \n",
       "2  [16.429325938224792, 0.00044358207560435403, 4...  \n",
       "3  [91.19017615201189, 1.5858162222285535, 0.6855...  \n",
       "4  [0.010402130175601999, 7.594126475115104e-09, ...  "
      ]
     },
     "execution_count": 21,
     "metadata": {},
     "output_type": "execute_result"
    }
   ],
   "source": [
    "demo_df.head()"
   ]
  },
  {
   "cell_type": "code",
   "execution_count": 22,
   "metadata": {},
   "outputs": [],
   "source": [
    "demo_df.to_csv('Final_Demography.csv',index=False)"
   ]
  },
  {
   "cell_type": "code",
   "execution_count": null,
   "metadata": {},
   "outputs": [],
   "source": []
  }
 ],
 "metadata": {
  "kernelspec": {
   "display_name": "gpu_instagram_py36",
   "language": "python",
   "name": "gpu_instagram_py36"
  },
  "language_info": {
   "codemirror_mode": {
    "name": "ipython",
    "version": 3
   },
   "file_extension": ".py",
   "mimetype": "text/x-python",
   "name": "python",
   "nbconvert_exporter": "python",
   "pygments_lexer": "ipython3",
   "version": "3.6.9"
  }
 },
 "nbformat": 4,
 "nbformat_minor": 4
}
